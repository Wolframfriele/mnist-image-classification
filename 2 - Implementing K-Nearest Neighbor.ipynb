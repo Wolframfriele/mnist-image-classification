{
 "cells": [
  {
   "cell_type": "markdown",
   "metadata": {},
   "source": [
    "# Homegrown K-Nearest Neighbor"
   ]
  },
  {
   "cell_type": "markdown",
   "metadata": {},
   "source": [
    "The following notebook is a continuation on the notebook: Recognize Handwriting with Sci-kit Learn. In this notebook I will try to make my own implementation of a K-Nearest Neighbor(KNN) algorithm and test it on the MNIST dataset. For the implementation I will be following the structure provided by Jason Brownlee [1].\n",
    "This includes the following steps:\n",
    "<ol>\n",
    "<li><strong>Select programming language</strong>: Select the programming language you want to use for the implementation. This decision may influence the APIs and standard libraries you can use in your implementation.</li>\n",
    "<li><strong>Select Algorithm</strong>: Select the algorithm that you want to implement from scratch. Be as specific as possible. This means not only the class, and type of algorithm, but also go as far as selecting a specific description or implementation that you want to implement.</li>\n",
    "<li><strong>Select Problem:</strong> Select a canonical problem or set of problems you can use to test and validate your implementation of the algorithm. Machine learning algorithms do not exist in isolation.</li>\n",
    "<li><strong>Research Algorithm</strong>: Locate papers, books, websites, libraries and any other descriptions of the algorithm you can read and learn from. Although you ideally want to have one keystone description of the algorithm from which to work, you will want to have multiple perspectives on the algorithm. This is useful because the multiple perspectives will help you to internalize the algorithm description faster and overcome roadblocks from any ambiguities or assumptions made in the description (there are always ambiguities in algorithm descriptions).</li>\n",
    "<li><strong>Unit Test</strong>: Write unit tests for each function, even consider test driven development from the beginning of the project so that you are forced to understand the purpose and expectations of each unit of code before you implement them.</li>\n",
    "</ol>\n",
    "\n",
    "For this implementation I will be using Python inside of a Jupyter Notebook, the algorithm that I will implement will be a simple version of K Nearest Neighbor using Euclidean distance. I might later optimize this to be a weighted version that uses a different distance metric. The Problem that I will focus on is classification of images from the MNIST [2] dataset. This is a dataset consisting of 60000 images of written digits that are labeled."
   ]
  },
  {
   "cell_type": "markdown",
   "metadata": {},
   "source": [
    "## The algorithm\n",
    "\n",
    "The KNN algorithm determines the classification of a new point by checking what labels the n-nearest points have. The algorithm then simply picks the same classification as the most recurring label. K-Nearest Neighbor is a so-called lazy-learning algorithm, this means that it does not need any training. The whole classification process executes at runtime, where it checks the distance from the predicted point to all available points in the dataset.\n",
    "The KNN algorithm relies on three steps:\n",
    "<ol>\n",
    "    <li>\n",
    "        Find the distance between the predicted point and all the existing data points and store this in an array.\n",
    "        To find the Euclidean distance in n-dimensional space we can use the following formula:\n",
    "        \\begin{equation*}\n",
    "        \\sqrt{\\sum_{i=1}^n (q_i-p_k)^2}\n",
    "        \\end{equation*}\n",
    "    </li>\n",
    "    <li>\n",
    "        This array then needs to be sorted putting the shortest distances first.\n",
    "    </li>\n",
    "    <li>\n",
    "        From the sorted array we look at the labels of the first n-data points and predict the new label based on the majority.\n",
    "    </li>\n",
    "</ol>"
   ]
  },
  {
   "cell_type": "markdown",
   "metadata": {},
   "source": [
    "### Calculating Euclidean distance\n",
    "\n",
    "By using numpy arrays, calculating the Euclidean distance becomes easier. It is possible to simply subtract and square whole numpy arrays. To gain one value we sum the L2 norm [3]."
   ]
  },
  {
   "cell_type": "code",
   "execution_count": 118,
   "metadata": {},
   "outputs": [
    {
     "name": "stdout",
     "output_type": "stream",
     "text": [
      "45.05552130427524\n"
     ]
    }
   ],
   "source": [
    "import numpy as np\n",
    "from sklearn import datasets\n",
    "from sklearn.model_selection import train_test_split\n",
    "\n",
    "import matplotlib.pyplot as plt\n",
    "\n",
    "\n",
    "# import MNIST dataset according to sci-kit learn protocol\n",
    "MNIST = datasets.load_digits()\n",
    "\n",
    "X = MNIST.data\n",
    "y = MNIST.target\n",
    "\n",
    "X_train, X_test, y_train, y_test = train_test_split(X, y, test_size = 0.2, random_state=42, stratify=y)\n",
    "\n",
    "def distance(img1, img2):\n",
    "    '''Calculates the Euclidean distance between two images\n",
    "    \n",
    "    Paramaters:\n",
    "    img1 (numpy array): Image data presented as a numpy array.\n",
    "    img2 (numpy array): Image data presented as a numpy array.\n",
    "    \n",
    "    Returns:\n",
    "    float: Euclidian distance\n",
    "    '''\n",
    "    return np.sqrt(sum((img1 - img2) ** 2))\n",
    "\n",
    "# testing the function on sample data\n",
    "obj1 = X_train[0]\n",
    "obj2 = X_test[0]\n",
    "\n",
    "print(distance(obj1, obj2))"
   ]
  },
  {
   "cell_type": "markdown",
   "metadata": {},
   "source": [
    "### Visualizing distance\n",
    "\n",
    "The interesting thing about calculating the distance between two images, is that it is the same operation as a difference blending mode in photoshop. This makes it possible to gain some visual understanding of what the K-Nearest Neighbor does.\n",
    "\n",
    "To visualize the steps, we will take plots off the image array at different stages.\n",
    "\n"
   ]
  },
  {
   "cell_type": "code",
   "execution_count": 100,
   "metadata": {},
   "outputs": [
    {
     "name": "stdout",
     "output_type": "stream",
     "text": [
      "Distance between first two images: 125.0\n",
      "Distance between first two images: 231.0\n"
     ]
    },
    {
     "data": {
      "image/png": "[encoded data removed]",
      "text/plain": [
       "<Figure size 432x288 with 6 Axes>"
      ]
     },
     "metadata": {
      "needs_background": "light"
     },
     "output_type": "display_data"
    }
   ],
   "source": [
    "# plot first element from training set\n",
    "train_image1 = X_train[18].reshape(8,8)\n",
    "fig = plt.figure(1)\n",
    "fig.add_subplot(2, 3, 1)\n",
    "plt.imshow(train_image1, cmap=plt.cm.gray, interpolation='nearest')\n",
    "plt.suptitle('Training image, prediction image and distance', fontsize=14, fontweight='regular')\n",
    "\n",
    "#plot image to be predicted\n",
    "predict_image1 = X_test[10].reshape(8,8)\n",
    "fig.add_subplot(2, 3, 2)\n",
    "fig = plt.imshow(predict_image1, cmap=plt.cm.gray, interpolation='nearest')\n",
    "\n",
    "#plot distance between images\n",
    "distance = np.sqrt((train_image1 - predict_image1) ** 2)\n",
    "fig = plt.figure(1)\n",
    "fig.add_subplot(2, 3, 3)\n",
    "fig = plt.imshow(distance, cmap=plt.cm.gray, interpolation='nearest')\n",
    "\n",
    "# plot second element from training set\n",
    "train_image2 = X_train[21].reshape(8,8)\n",
    "fig = plt.figure(1)\n",
    "fig.add_subplot(2, 3, 4)\n",
    "plt.imshow(train_image2, cmap=plt.cm.gray, interpolation='nearest')\n",
    "# plt[0][0].suptitle('Images from training set', fontsize=14, fontweight='regular')\n",
    "\n",
    "#plot image to be predicted\n",
    "fig = plt.figure(1)\n",
    "fig.add_subplot(2, 3, 5)\n",
    "fig = plt.imshow(predict_image1, cmap=plt.cm.gray, interpolation='nearest')\n",
    "\n",
    "#plot distance between images\n",
    "distance2 = np.sqrt((train_image2 - predict_image1) ** 2)\n",
    "fig = plt.figure(1)\n",
    "fig.add_subplot(2, 3, 6)\n",
    "fig = plt.imshow(distance2, cmap=plt.cm.gray, interpolation='nearest')\n",
    "\n",
    "print('Distance between first two images: {}'.format(np.sum(distance)))\n",
    "print('Distance between first two images: {}'.format(np.sum(distance2)))"
   ]
  },
  {
   "cell_type": "markdown",
   "metadata": {},
   "source": [
    "### Bringing it all together\n",
    "\n",
    "With the newly gained understanding of calculating distance between images, it is now possible to implement the remaining steps for the KNN algorithm."
   ]
  },
  {
   "cell_type": "code",
   "execution_count": 187,
   "metadata": {},
   "outputs": [
    {
     "name": "stdout",
     "output_type": "stream",
     "text": [
      "Prediction is: 5\n",
      "Accuracy is: 98.61%\n"
     ]
    },
    {
     "data": {
      "image/png": "[encoded data removed]",
      "text/plain": [
       "<Figure size 432x288 with 1 Axes>"
      ]
     },
     "metadata": {
      "needs_background": "light"
     },
     "output_type": "display_data"
    }
   ],
   "source": [
    "import matplotlib.pyplot as plt\n",
    "import numpy as np\n",
    "\n",
    "from sklearn import datasets\n",
    "from sklearn.model_selection import train_test_split\n",
    "from scipy import stats\n",
    "\n",
    "\n",
    "# import MNIST dataset according to sci-kit learn protocol\n",
    "MNIST = datasets.load_digits()\n",
    "\n",
    "X = MNIST.data\n",
    "y = MNIST.target\n",
    "\n",
    "X_train, X_test, y_train, y_test = train_test_split(X, y, test_size = 0.2, random_state=42, stratify=y)\n",
    "\n",
    "\n",
    "def KNN(training_data, training_target, prediction_data, n_neighbors=3):\n",
    "    '''Predicts label of data, based on K-Nearest Neighbor algorithm\n",
    "    \n",
    "    Paramaters:\n",
    "    training_data (numpy array): An array containing the set of all training data, \n",
    "                                 with images being represented as a sub-array.\n",
    "    training_target (numpy array): An array with the corresponding labels for the training_data.\n",
    "    prediction_data (numpy array): An array with single image data to be classified.\n",
    "    n_neighbors (int): A number representing the amount of close neighbors to take into consideration, \n",
    "                       default is 3.\n",
    "    \n",
    "    returns:\n",
    "    Same format as elements in training target, with the predicted label.\n",
    "    \n",
    "    '''\n",
    "    \n",
    "    # list to store distances\n",
    "    all_distances =  []\n",
    "    \n",
    "    # loop over all images in training set and calculate distance between it and the target image\n",
    "    for i, image in enumerate(training_data):\n",
    "        all_distances.append((np.sqrt(sum((image - prediction_data) ** 2)), training_target[i]))\n",
    "    \n",
    "    #sort list with distances\n",
    "    all_distances.sort()\n",
    "    \n",
    "    # list to store the nearest n labels\n",
    "    labels = []\n",
    "    for item in all_distances[0:n_neighbors]:\n",
    "        labels.append(item[1])\n",
    "        \n",
    "    # return the most common label\n",
    "    return stats.mode(labels)[0][0]\n",
    "\n",
    "\n",
    "# set what image from the test set to predict\n",
    "prediction_index = 25\n",
    "\n",
    "# render visual representation of the predicted image\n",
    "predicted_image = X_test[prediction_index]\n",
    "predicted_visual = X_test[prediction_index].reshape(8,8)\n",
    "plt.imshow(predicted_visual, cmap=plt.cm.gray_r, interpolation='nearest')\n",
    "plt.suptitle('Image labeled {}'.format(y_test[prediction_index]), fontsize=14, fontweight='regular')    \n",
    "\n",
    "\n",
    "# run the KNN classifier and print the result\n",
    "KNN_prediction = KNN(X_train, y_train, predicted_image, 3)\n",
    "print('Prediction is: {}'.format(KNN_prediction))\n",
    "\n",
    "# score the algorithm\n",
    "\n",
    "score_counter = 0\n",
    "for i, predicted in enumerate(y_test):\n",
    "    if predicted == KNN(X_train, y_train, X_test[i], 3):\n",
    "        score_counter += 1\n",
    "        \n",
    "accuracy = round((score_counter / len(y_test)) * 100, 2)\n",
    "\n",
    "print('Accuracy is: {}%'.format(accuracy))\n",
    "        \n"
   ]
  },
  {
   "cell_type": "markdown",
   "metadata": {},
   "source": [
    "## Conclusion\n",
    "\n",
    "The final code for implementing a K-Nearest Neighbor algorithm is fairly simple. The currently achieved accuracy is .3 percent higher than the Sci-Kit learn implementation. It does seem to run quite a bit slower. But the goal of this project was not to find the most optimized version of this algorithm, but simply to build a successful implementation.\n",
    "\n",
    "It was interesting to think about ways to visualize this algorithm, seeing the labeled image, with the correct prediction is oddly satisfying.\n"
   ]
  },
  {
   "cell_type": "markdown",
   "metadata": {},
   "source": [
    "# References\n",
    "\n",
    "[1] J. Brownlee, “How to Implement a Machine Learning Algorithm in Code,” 2014. https://machinelearningmastery.com/how-to-implement-a-machine-learning-algorithm/ (accessed Nov. 21, 2020).\n",
    "\n",
    "[2] Y. LeCun and C. Cortes, “MNIST handwritten digit database, Yann LeCun, Corinna Cortes and Chris Burges.” http://yann.lecun.com/exdb/mnist/ (accessed Nov. 21, 2020).\n",
    "\n",
    "[3] S. Z. Li and A. Jain, Eds., “L2 norm,” in Encyclopedia of Biometrics, Boston, MA: Springer US, 2009, p. 883."
   ]
  }
 ],
 "metadata": {
  "authors": [
   {
    "name": "Wolfram Friele"
   }
  ],
  "kernelspec": {
   "display_name": "Python 3",
   "language": "python",
   "name": "python3"
  },
  "language_info": {
   "codemirror_mode": {
    "name": "ipython",
    "version": 3
   },
   "file_extension": ".py",
   "mimetype": "text/x-python",
   "name": "python",
   "nbconvert_exporter": "python",
   "pygments_lexer": "ipython3",
   "version": "3.8.5"
  }
 },
 "nbformat": 4,
 "nbformat_minor": 4
}
